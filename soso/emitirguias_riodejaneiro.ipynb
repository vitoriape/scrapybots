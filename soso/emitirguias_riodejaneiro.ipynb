{
 "cells": [
  {
   "cell_type": "code",
   "execution_count": 1,
   "id": "6b92f514-d196-4aaf-a76c-b90cd2d20f8f",
   "metadata": {},
   "outputs": [],
   "source": [
    "import pyautogui\n",
    "import pyautogui as pyTimeout\n",
    "import pyautogui as runChrome\n",
    "import pyautogui as UseKeyboard\n",
    "\n",
    "from selenium import webdriver as browserOptions\n",
    "from selenium.webdriver.common.keys import Keys \n",
    "\n",
    "from openpyxl import load_workbook\n",
    "import xlsxwriter\n",
    "import os"
   ]
  },
  {
   "cell_type": "code",
   "execution_count": 2,
   "id": "a3afa332-13c6-4ccc-8b39-d6746a916f0c",
   "metadata": {},
   "outputs": [],
   "source": [
    "workbookPath = 'C:\\\\Users\\\\vitoria.pecanha\\\\OneDrive\\\\Sinal\\\\Tributação\\\\Dados\\\\Inscrições Municipais.xlsx' \n",
    "InscricoesWorkbook = load_workbook(workbookPath)\n",
    "sheetRJ = InscricoesWorkbook['Rio de Janeiro']\n",
    "\n",
    "site_iptu_rj = 'https://iportal.rio.rj.gov.br/PF331IPTUATUAL/pages/ParcelamentoIptuDs/TelaSelecao.aspx'\n",
    "\n",
    "runChrome = browserOptions.Chrome()\n",
    "runChrome.get(site_iptu_rj)\n",
    "pyTimeout.sleep(2)"
   ]
  },
  {
   "cell_type": "code",
   "execution_count": 3,
   "id": "66587d52-9033-44d2-866a-01fdc1855f44",
   "metadata": {},
   "outputs": [
    {
     "name": "stderr",
     "output_type": "stream",
     "text": [
      "C:\\Users\\VITORI~1.PEC\\AppData\\Local\\Temp/ipykernel_11152/4153509872.py:8: DeprecationWarning: find_element_by_* commands are deprecated. Please use find_element() instead\n",
      "  runChrome.find_element_by_id(\"ctl00_ePortalContent_inscricao_input\").send_keys(novaInscricao)\n",
      "C:\\Users\\VITORI~1.PEC\\AppData\\Local\\Temp/ipykernel_11152/4153509872.py:10: DeprecationWarning: find_element_by_* commands are deprecated. Please use find_element() instead\n",
      "  runChrome.find_element_by_id(\"ctl00_ePortalContent_DefiniGuia\").send_keys(Keys.RETURN)\n",
      "C:\\Users\\VITORI~1.PEC\\AppData\\Local\\Temp/ipykernel_11152/4153509872.py:15: DeprecationWarning: find_element_by_* commands are deprecated. Please use find_element() instead\n",
      "  runChrome.find_element_by_id(\"ctl00_ePortalContent_TELA_Guia1\").click()\n",
      "C:\\Users\\VITORI~1.PEC\\AppData\\Local\\Temp/ipykernel_11152/4153509872.py:19: DeprecationWarning: find_elements_by_* commands are deprecated. Please use find_elements() instead\n",
      "  novoTotal = runChrome.find_elements_by_xpath('//*[@id=\"ctl00_ePortalContent_CampoTotal\"]')[0].text\n",
      "C:\\Users\\VITORI~1.PEC\\AppData\\Local\\Temp/ipykernel_11152/4153509872.py:25: DeprecationWarning: find_element_by_* commands are deprecated. Please use find_element() instead\n",
      "  runChrome.find_element_by_id(\"ctl00_ePortalContent_Chk_002\").click()\n",
      "C:\\Users\\VITORI~1.PEC\\AppData\\Local\\Temp/ipykernel_11152/4153509872.py:27: DeprecationWarning: find_element_by_* commands are deprecated. Please use find_element() instead\n",
      "  runChrome.find_element_by_id(\"ctl00_ePortalContent_btnDarmIndiv\").send_keys(Keys.RETURN)\n",
      "C:\\Users\\VITORI~1.PEC\\AppData\\Local\\Temp/ipykernel_11152/4153509872.py:29: DeprecationWarning: find_element_by_* commands are deprecated. Please use find_element() instead\n",
      "  runChrome.find_element_by_id(\"popup_ok\").click()\n",
      "C:\\Users\\VITORI~1.PEC\\AppData\\Local\\Temp/ipykernel_11152/4153509872.py:34: DeprecationWarning: find_element_by_* commands are deprecated. Please use find_element() instead\n",
      "  runChrome.find_element_by_id(\"ctl00_ePortalContent_ImprimirDARM\").send_keys(Keys.RETURN)\n",
      "C:\\Users\\VITORI~1.PEC\\AppData\\Local\\Temp/ipykernel_11152/4153509872.py:42: DeprecationWarning: find_element_by_* commands are deprecated. Please use find_element() instead\n",
      "  runChrome.find_element_by_class_name(\"btn\").click()\n"
     ]
    },
    {
     "ename": "IndexError",
     "evalue": "list index out of range",
     "output_type": "error",
     "traceback": [
      "\u001b[1;31m---------------------------------------------------------------------------\u001b[0m",
      "\u001b[1;31mIndexError\u001b[0m                                Traceback (most recent call last)",
      "\u001b[1;32mC:\\Users\\VITORI~1.PEC\\AppData\\Local\\Temp/ipykernel_11152/4153509872.py\u001b[0m in \u001b[0;36m<module>\u001b[1;34m\u001b[0m\n\u001b[0;32m     17\u001b[0m \u001b[1;33m\u001b[0m\u001b[0m\n\u001b[0;32m     18\u001b[0m     \u001b[1;31m#Armazenar o Valor das Cotas Selecionadas\u001b[0m\u001b[1;33m\u001b[0m\u001b[1;33m\u001b[0m\u001b[0m\n\u001b[1;32m---> 19\u001b[1;33m     \u001b[0mnovoTotal\u001b[0m \u001b[1;33m=\u001b[0m \u001b[0mrunChrome\u001b[0m\u001b[1;33m.\u001b[0m\u001b[0mfind_elements_by_xpath\u001b[0m\u001b[1;33m(\u001b[0m\u001b[1;34m'//*[@id=\"ctl00_ePortalContent_CampoTotal\"]'\u001b[0m\u001b[1;33m)\u001b[0m\u001b[1;33m[\u001b[0m\u001b[1;36m0\u001b[0m\u001b[1;33m]\u001b[0m\u001b[1;33m.\u001b[0m\u001b[0mtext\u001b[0m\u001b[1;33m\u001b[0m\u001b[1;33m\u001b[0m\u001b[0m\n\u001b[0m\u001b[0;32m     20\u001b[0m     \u001b[0mcolumnC\u001b[0m \u001b[1;33m=\u001b[0m \u001b[1;34m\"C\"\u001b[0m \u001b[1;33m+\u001b[0m \u001b[0mstr\u001b[0m\u001b[1;33m(\u001b[0m\u001b[0msheetRow\u001b[0m\u001b[1;33m)\u001b[0m\u001b[1;33m\u001b[0m\u001b[1;33m\u001b[0m\u001b[0m\n\u001b[0;32m     21\u001b[0m     \u001b[0msheetRJ\u001b[0m\u001b[1;33m[\u001b[0m\u001b[0mcolumnC\u001b[0m\u001b[1;33m]\u001b[0m \u001b[1;33m=\u001b[0m \u001b[0mnovoTotal\u001b[0m\u001b[1;33m\u001b[0m\u001b[1;33m\u001b[0m\u001b[0m\n",
      "\u001b[1;31mIndexError\u001b[0m: list index out of range"
     ]
    }
   ],
   "source": [
    "for sheetRow in range(2, len(sheetRJ['A']) + 1):\n",
    "\n",
    "    novoImovel = sheetRJ['A%s' % sheetRow].value\n",
    "    novaInscricao = sheetRJ['B%s' % sheetRow].value\n",
    "    novoTotal = sheetRJ['C%s' % sheetRow].value\n",
    "    \n",
    "    #Consultar imóvel\n",
    "    runChrome.find_element_by_id(\"ctl00_ePortalContent_inscricao_input\").send_keys(novaInscricao)\n",
    "    pyTimeout.sleep(1)\n",
    "    runChrome.find_element_by_id(\"ctl00_ePortalContent_DefiniGuia\").send_keys(Keys.RETURN)\n",
    "    pyTimeout.sleep(1)\n",
    "    \n",
    "    \n",
    "    #Selecionar cobrança ordinária\n",
    "    runChrome.find_element_by_id(\"ctl00_ePortalContent_TELA_Guia1\").click()\n",
    "    pyTimeout.sleep(5)\n",
    "    \n",
    "    #Armazenar o Valor das Cotas Selecionadas\n",
    "    novoTotal = runChrome.find_elements_by_xpath('//*[@id=\"ctl00_ePortalContent_CampoTotal\"]')[0].text\n",
    "    columnC = \"C\" + str(sheetRow)\n",
    "    sheetRJ[columnC] = novoTotal\n",
    "    \n",
    "    \n",
    "    #Emitir guia\n",
    "    runChrome.find_element_by_id(\"ctl00_ePortalContent_Chk_002\").click()\n",
    "    pyTimeout.sleep(2)\n",
    "    runChrome.find_element_by_id(\"ctl00_ePortalContent_btnDarmIndiv\").send_keys(Keys.RETURN)\n",
    "    pyTimeout.sleep(5)\n",
    "    runChrome.find_element_by_id(\"popup_ok\").click()\n",
    "    pyTimeout.sleep(5)\n",
    "    \n",
    "    \n",
    "    #Imprimir guia\n",
    "    runChrome.find_element_by_id(\"ctl00_ePortalContent_ImprimirDARM\").send_keys(Keys.RETURN)\n",
    "    pyTimeout.sleep(5)\n",
    "    #UseKeyboard.typewrite(novoImovel)\n",
    "    #pyTimeout.sleep(1)\n",
    "    #UseKeyboard.press('enter')\n",
    "    #pyTimeout.sleep(4)\n",
    "    \n",
    "    #Sair da tela atual para realizar uma nova consulta\n",
    "    runChrome.find_element_by_class_name(\"btn\").click()\n",
    "    pyTimeout.sleep(4)"
   ]
  },
  {
   "cell_type": "code",
   "execution_count": null,
   "id": "6f9618bf-f643-41a1-933b-7303d6e978be",
   "metadata": {},
   "outputs": [],
   "source": [
    "runChrome.close()\n",
    "InscricoesWorkbook.save(filename=workbookPath)\n",
    "os.startfile(workbookPath)"
   ]
  }
 ],
 "metadata": {
  "kernelspec": {
   "display_name": "Python 3 (ipykernel)",
   "language": "python",
   "name": "python3"
  },
  "language_info": {
   "codemirror_mode": {
    "name": "ipython",
    "version": 3
   },
   "file_extension": ".py",
   "mimetype": "text/x-python",
   "name": "python",
   "nbconvert_exporter": "python",
   "pygments_lexer": "ipython3",
   "version": "3.9.7"
  }
 },
 "nbformat": 4,
 "nbformat_minor": 5
}
